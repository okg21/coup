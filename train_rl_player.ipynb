{
 "cells": [
  {
   "cell_type": "code",
   "execution_count": 31,
   "metadata": {},
   "outputs": [],
   "source": [
    "# import statements\n",
    "import torch\n",
    "import torch.nn as nn\n",
    "import torch.optim as optim\n",
    "import numpy as np\n",
    "from collections import deque\n",
    "import random\n",
    "import importlib\n",
    "\n",
    "import player\n",
    "import rl_player\n",
    "importlib.reload(player)\n",
    "importlib.reload(rl_player)\n",
    "from player import *\n",
    "from rl_player import *"
   ]
  },
  {
   "cell_type": "code",
   "execution_count": 32,
   "metadata": {},
   "outputs": [],
   "source": [
    "def train_agent(agent, env, num_episodes, batch_size, epsilon_decay):\n",
    "    total_rewards = []\n",
    "    epsilon = 1.0\n",
    "\n",
    "    for episode in range(num_episodes):\n",
    "        initial_state = env.reset()\n",
    "        state = initial_state\n",
    "        done = False\n",
    "        total_reward = 0\n",
    "\n",
    "        while not done:\n",
    "            # Choose an action using epsilon-greedy strategy\n",
    "            action = agent.get_action(state, agent.name, epsilon)\n",
    "\n",
    "            # Take the chosen action and observe the next state, reward, and done flag from the environment\n",
    "            next_state, reward, done = env.step(action)\n",
    "\n",
    "            # Add the experience to the agent's replay buffer\n",
    "            agent.add_experience(state, action, reward, next_state, done)\n",
    "\n",
    "            # Update the agent's Q-network if there are enough experiences in the replay buffer\n",
    "            if len(agent.replay_buffer) >= batch_size:\n",
    "                agent.replay_experience(batch_size, agent.name)\n",
    "\n",
    "            # Update the game state and history for the next iteration\n",
    "            state = next_state\n",
    "\n",
    "            # Accumulate the total reward\n",
    "            total_reward += reward\n",
    "\n",
    "        # Decay epsilon\n",
    "        epsilon *= epsilon_decay\n",
    "\n",
    "        # Save the total reward for this episode\n",
    "        total_rewards.append(total_reward)\n",
    "\n",
    "        # Print the episode number and total reward\n",
    "        print(f\"Episode {episode + 1}/{num_episodes} - Total Reward: {total_reward}\")\n",
    "\n",
    "    return total_rewards"
   ]
  },
  {
   "cell_type": "code",
   "execution_count": 33,
   "metadata": {},
   "outputs": [
    {
     "name": "stdout",
     "output_type": "stream",
     "text": [
      "Episode 1/1000 - Total Reward: 0\n",
      "Episode 2/1000 - Total Reward: 0\n",
      "Episode 3/1000 - Total Reward: 0\n",
      "Episode 4/1000 - Total Reward: 0\n",
      "Episode 5/1000 - Total Reward: 0\n",
      "Episode 6/1000 - Total Reward: 0\n",
      "Episode 7/1000 - Total Reward: 0\n",
      "Episode 8/1000 - Total Reward: 0\n",
      "Episode 9/1000 - Total Reward: 0\n",
      "Episode 10/1000 - Total Reward: 0\n",
      "Episode 11/1000 - Total Reward: 0\n",
      "Episode 12/1000 - Total Reward: 0\n",
      "Episode 13/1000 - Total Reward: 0\n",
      "Episode 14/1000 - Total Reward: 0\n",
      "Episode 15/1000 - Total Reward: 0\n",
      "Episode 16/1000 - Total Reward: 0\n",
      "Episode 17/1000 - Total Reward: 0\n",
      "Episode 18/1000 - Total Reward: 0\n",
      "Episode 19/1000 - Total Reward: 0\n",
      "Episode 20/1000 - Total Reward: 0\n",
      "Episode 21/1000 - Total Reward: 0\n",
      "Episode 22/1000 - Total Reward: 0\n",
      "Episode 23/1000 - Total Reward: 0\n",
      "Episode 24/1000 - Total Reward: 0\n",
      "Episode 25/1000 - Total Reward: 0\n",
      "Episode 26/1000 - Total Reward: 0\n",
      "Episode 27/1000 - Total Reward: 0\n",
      "Episode 28/1000 - Total Reward: 0\n",
      "Episode 29/1000 - Total Reward: 0\n",
      "Episode 30/1000 - Total Reward: 0\n",
      "Episode 31/1000 - Total Reward: 0\n"
     ]
    },
    {
     "ename": "IndexError",
     "evalue": "tensors used as indices must be long, int, byte or bool tensors",
     "output_type": "error",
     "traceback": [
      "\u001b[0;31m---------------------------------------------------------------------------\u001b[0m",
      "\u001b[0;31mIndexError\u001b[0m                                Traceback (most recent call last)",
      "\u001b[1;32m/Users/ryan/coup/train_rl_player.ipynb Cell 3\u001b[0m in \u001b[0;36m1\n\u001b[1;32m     <a href='vscode-notebook-cell:/Users/ryan/coup/train_rl_player.ipynb#W3sZmlsZQ%3D%3D?line=9'>10</a>\u001b[0m batch_size \u001b[39m=\u001b[39m \u001b[39m32\u001b[39m\n\u001b[1;32m     <a href='vscode-notebook-cell:/Users/ryan/coup/train_rl_player.ipynb#W3sZmlsZQ%3D%3D?line=10'>11</a>\u001b[0m epsilon_decay \u001b[39m=\u001b[39m \u001b[39m0.99\u001b[39m\n\u001b[0;32m---> <a href='vscode-notebook-cell:/Users/ryan/coup/train_rl_player.ipynb#W3sZmlsZQ%3D%3D?line=12'>13</a>\u001b[0m total_rewards \u001b[39m=\u001b[39m train_agent(agent, env, num_episodes, batch_size, epsilon_decay)\n",
      "\u001b[1;32m/Users/ryan/coup/train_rl_player.ipynb Cell 3\u001b[0m in \u001b[0;36m2\n\u001b[1;32m     <a href='vscode-notebook-cell:/Users/ryan/coup/train_rl_player.ipynb#W3sZmlsZQ%3D%3D?line=20'>21</a>\u001b[0m \u001b[39m# Update the agent's Q-network if there are enough experiences in the replay buffer\u001b[39;00m\n\u001b[1;32m     <a href='vscode-notebook-cell:/Users/ryan/coup/train_rl_player.ipynb#W3sZmlsZQ%3D%3D?line=21'>22</a>\u001b[0m \u001b[39mif\u001b[39;00m \u001b[39mlen\u001b[39m(agent\u001b[39m.\u001b[39mreplay_buffer) \u001b[39m>\u001b[39m\u001b[39m=\u001b[39m batch_size:\n\u001b[0;32m---> <a href='vscode-notebook-cell:/Users/ryan/coup/train_rl_player.ipynb#W3sZmlsZQ%3D%3D?line=22'>23</a>\u001b[0m     agent\u001b[39m.\u001b[39;49mreplay_experience(batch_size, agent\u001b[39m.\u001b[39;49mname)\n\u001b[1;32m     <a href='vscode-notebook-cell:/Users/ryan/coup/train_rl_player.ipynb#W3sZmlsZQ%3D%3D?line=24'>25</a>\u001b[0m \u001b[39m# Update the game state and history for the next iteration\u001b[39;00m\n\u001b[1;32m     <a href='vscode-notebook-cell:/Users/ryan/coup/train_rl_player.ipynb#W3sZmlsZQ%3D%3D?line=25'>26</a>\u001b[0m state \u001b[39m=\u001b[39m next_state\n",
      "File \u001b[0;32m~/coup/rl_player.py:161\u001b[0m, in \u001b[0;36mQLearningAgent.replay_experience\u001b[0;34m(self, batch_size, name)\u001b[0m\n\u001b[1;32m    159\u001b[0m \u001b[39mfor\u001b[39;00m experience \u001b[39min\u001b[39;00m batch:\n\u001b[1;32m    160\u001b[0m     state, action, reward, next_state, done \u001b[39m=\u001b[39m experience\n\u001b[0;32m--> 161\u001b[0m     \u001b[39mself\u001b[39;49m\u001b[39m.\u001b[39;49mupdate(state, next_state, name, action, reward, done)\n",
      "File \u001b[0;32m~/coup/rl_player.py:137\u001b[0m, in \u001b[0;36mQLearningAgent.update\u001b[0;34m(self, state, next_state, name, action, reward, done)\u001b[0m\n\u001b[1;32m    134\u001b[0m predicted_next_values \u001b[39m=\u001b[39m \u001b[39mself\u001b[39m\u001b[39m.\u001b[39mmodel\u001b[39m.\u001b[39mforward(next_state_tensor)\n\u001b[1;32m    136\u001b[0m \u001b[39m# Get the Q-value of the chosen action\u001b[39;00m\n\u001b[0;32m--> 137\u001b[0m q_value \u001b[39m=\u001b[39m predicted_values[action_to_output(action, game_state)]\n\u001b[1;32m    139\u001b[0m \u001b[39m# Calculate the target Q-value using the Bellman equation\u001b[39;00m\n\u001b[1;32m    140\u001b[0m \u001b[39mif\u001b[39;00m done:\n",
      "\u001b[0;31mIndexError\u001b[0m: tensors used as indices must be long, int, byte or bool tensors"
     ]
    }
   ],
   "source": [
    "state_dim = 43\n",
    "action_dim = 10\n",
    "learning_rate = 0.0001\n",
    "gamma = 0.99\n",
    "\n",
    "agent = QLearningAgent(state_dim, action_dim, learning_rate, gamma, 'Player 1')\n",
    "env = Environment('Player 1')\n",
    "\n",
    "num_episodes = 1000\n",
    "batch_size = 32\n",
    "epsilon_decay = 0.99\n",
    "\n",
    "total_rewards = train_agent(agent, env, num_episodes, batch_size, epsilon_decay)"
   ]
  },
  {
   "cell_type": "code",
   "execution_count": null,
   "metadata": {},
   "outputs": [],
   "source": []
  }
 ],
 "metadata": {
  "kernelspec": {
   "display_name": "base",
   "language": "python",
   "name": "python3"
  },
  "language_info": {
   "codemirror_mode": {
    "name": "ipython",
    "version": 3
   },
   "file_extension": ".py",
   "mimetype": "text/x-python",
   "name": "python",
   "nbconvert_exporter": "python",
   "pygments_lexer": "ipython3",
   "version": "3.9.15"
  },
  "orig_nbformat": 4
 },
 "nbformat": 4,
 "nbformat_minor": 2
}
