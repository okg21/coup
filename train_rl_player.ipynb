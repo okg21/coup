{
 "cells": [
  {
   "cell_type": "code",
   "execution_count": null,
   "metadata": {},
   "outputs": [],
   "source": [
    "# import statements"
   ]
  },
  {
   "cell_type": "code",
   "execution_count": null,
   "metadata": {},
   "outputs": [],
   "source": [
    "agent = QLearningAgent(state_dim, action_dim, learning_rate, gamma)\n",
    "env = GameEnvironment()  # Replace with your game environment\n",
    "\n",
    "num_episodes = 1000\n",
    "batch_size = 32\n",
    "epsilon_decay = 0.99\n",
    "\n",
    "total_rewards = train_agent(agent, env, num_episodes, batch_size, epsilon_decay)"
   ]
  },
  {
   "cell_type": "code",
   "execution_count": null,
   "metadata": {},
   "outputs": [],
   "source": [
    "def train_agent(agent, env, num_episodes, batch_size, epsilon_decay):\n",
    "    total_rewards = []\n",
    "    epsilon = 1.0\n",
    "\n",
    "    for episode in range(num_episodes):\n",
    "        game_state = env.reset()\n",
    "        history = []  # Reset the history for each episode\n",
    "        done = False\n",
    "        total_reward = 0\n",
    "\n",
    "        while not done:\n",
    "            # Choose an action using epsilon-greedy strategy\n",
    "            action = agent.get_action(game_state, history, epsilon)\n",
    "\n",
    "            # Take the chosen action and observe the next state, reward, and done flag from the environment\n",
    "            next_game_state, reward, done = env.step(action)\n",
    "\n",
    "            # Add the experience to the agent's replay buffer\n",
    "            agent.add_experience(game_state, history, action, reward, next_game_state, done)\n",
    "\n",
    "            # Update the agent's Q-network if there are enough experiences in the replay buffer\n",
    "            if len(agent.replay_buffer) >= batch_size:\n",
    "                agent.replay_experience(batch_size)\n",
    "\n",
    "            # Update the game state and history for the next iteration\n",
    "            game_state = next_game_state\n",
    "            history.append((game_state, action))\n",
    "\n",
    "            # Accumulate the total reward\n",
    "            total_reward += reward\n",
    "\n",
    "        # Decay epsilon\n",
    "        epsilon *= epsilon_decay\n",
    "\n",
    "        # Save the total reward for this episode\n",
    "        total_rewards.append(total_reward)\n",
    "\n",
    "        # Print the episode number and total reward\n",
    "        print(f\"Episode {episode + 1}/{num_episodes} - Total Reward: {total_reward}\")\n",
    "\n",
    "    return total_rewards"
   ]
  }
 ],
 "metadata": {
  "language_info": {
   "name": "python"
  },
  "orig_nbformat": 4
 },
 "nbformat": 4,
 "nbformat_minor": 2
}
