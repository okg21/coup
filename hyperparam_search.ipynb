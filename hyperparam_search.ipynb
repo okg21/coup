{
  "nbformat": 4,
  "nbformat_minor": 0,
  "metadata": {
    "colab": {
      "provenance": [],
      "gpuType": "T4"
    },
    "kernelspec": {
      "name": "python3",
      "display_name": "Python 3"
    },
    "language_info": {
      "name": "python"
    },
    "accelerator": "GPU",
    "widgets": {
      "application/vnd.jupyter.widget-state+json": {
        "1a09aa1bc070414ba4b1949df7734cf1": {
          "model_module": "@jupyter-widgets/controls",
          "model_name": "HBoxModel",
          "model_module_version": "1.5.0",
          "state": {
            "_dom_classes": [],
            "_model_module": "@jupyter-widgets/controls",
            "_model_module_version": "1.5.0",
            "_model_name": "HBoxModel",
            "_view_count": null,
            "_view_module": "@jupyter-widgets/controls",
            "_view_module_version": "1.5.0",
            "_view_name": "HBoxView",
            "box_style": "",
            "children": [
              "IPY_MODEL_dfa9970a936846e78fddf6443908f885",
              "IPY_MODEL_5949c4ec579f435eb99b4d9502e44463",
              "IPY_MODEL_8014d8650fd148a98a10422a9d615079"
            ],
            "layout": "IPY_MODEL_3097064d95eb4830afd35bb5dc9f84e2"
          }
        },
        "dfa9970a936846e78fddf6443908f885": {
          "model_module": "@jupyter-widgets/controls",
          "model_name": "HTMLModel",
          "model_module_version": "1.5.0",
          "state": {
            "_dom_classes": [],
            "_model_module": "@jupyter-widgets/controls",
            "_model_module_version": "1.5.0",
            "_model_name": "HTMLModel",
            "_view_count": null,
            "_view_module": "@jupyter-widgets/controls",
            "_view_module_version": "1.5.0",
            "_view_name": "HTMLView",
            "description": "",
            "description_tooltip": null,
            "layout": "IPY_MODEL_b81a5143ae8444cd9f41e447e02ffe74",
            "placeholder": "​",
            "style": "IPY_MODEL_605f45ea5a634dc8984e006d3e286fb1",
            "value": "Episode Loop: 100%"
          }
        },
        "5949c4ec579f435eb99b4d9502e44463": {
          "model_module": "@jupyter-widgets/controls",
          "model_name": "FloatProgressModel",
          "model_module_version": "1.5.0",
          "state": {
            "_dom_classes": [],
            "_model_module": "@jupyter-widgets/controls",
            "_model_module_version": "1.5.0",
            "_model_name": "FloatProgressModel",
            "_view_count": null,
            "_view_module": "@jupyter-widgets/controls",
            "_view_module_version": "1.5.0",
            "_view_name": "ProgressView",
            "bar_style": "success",
            "description": "",
            "description_tooltip": null,
            "layout": "IPY_MODEL_bf9521a3a3354f028adccec094a46108",
            "max": 1000,
            "min": 0,
            "orientation": "horizontal",
            "style": "IPY_MODEL_72fbb0455e884448858f45743997436c",
            "value": 1000
          }
        },
        "8014d8650fd148a98a10422a9d615079": {
          "model_module": "@jupyter-widgets/controls",
          "model_name": "HTMLModel",
          "model_module_version": "1.5.0",
          "state": {
            "_dom_classes": [],
            "_model_module": "@jupyter-widgets/controls",
            "_model_module_version": "1.5.0",
            "_model_name": "HTMLModel",
            "_view_count": null,
            "_view_module": "@jupyter-widgets/controls",
            "_view_module_version": "1.5.0",
            "_view_name": "HTMLView",
            "description": "",
            "description_tooltip": null,
            "layout": "IPY_MODEL_4012e032f0434d7a80a19ff48251e564",
            "placeholder": "​",
            "style": "IPY_MODEL_8f598278a8644079a21f184abb33a73d",
            "value": " 1000/1000 [02:19&lt;00:00,  8.31it/s]"
          }
        },
        "3097064d95eb4830afd35bb5dc9f84e2": {
          "model_module": "@jupyter-widgets/base",
          "model_name": "LayoutModel",
          "model_module_version": "1.2.0",
          "state": {
            "_model_module": "@jupyter-widgets/base",
            "_model_module_version": "1.2.0",
            "_model_name": "LayoutModel",
            "_view_count": null,
            "_view_module": "@jupyter-widgets/base",
            "_view_module_version": "1.2.0",
            "_view_name": "LayoutView",
            "align_content": null,
            "align_items": null,
            "align_self": null,
            "border": null,
            "bottom": null,
            "display": null,
            "flex": null,
            "flex_flow": null,
            "grid_area": null,
            "grid_auto_columns": null,
            "grid_auto_flow": null,
            "grid_auto_rows": null,
            "grid_column": null,
            "grid_gap": null,
            "grid_row": null,
            "grid_template_areas": null,
            "grid_template_columns": null,
            "grid_template_rows": null,
            "height": null,
            "justify_content": null,
            "justify_items": null,
            "left": null,
            "margin": null,
            "max_height": null,
            "max_width": null,
            "min_height": null,
            "min_width": null,
            "object_fit": null,
            "object_position": null,
            "order": null,
            "overflow": null,
            "overflow_x": null,
            "overflow_y": null,
            "padding": null,
            "right": null,
            "top": null,
            "visibility": null,
            "width": null
          }
        },
        "b81a5143ae8444cd9f41e447e02ffe74": {
          "model_module": "@jupyter-widgets/base",
          "model_name": "LayoutModel",
          "model_module_version": "1.2.0",
          "state": {
            "_model_module": "@jupyter-widgets/base",
            "_model_module_version": "1.2.0",
            "_model_name": "LayoutModel",
            "_view_count": null,
            "_view_module": "@jupyter-widgets/base",
            "_view_module_version": "1.2.0",
            "_view_name": "LayoutView",
            "align_content": null,
            "align_items": null,
            "align_self": null,
            "border": null,
            "bottom": null,
            "display": null,
            "flex": null,
            "flex_flow": null,
            "grid_area": null,
            "grid_auto_columns": null,
            "grid_auto_flow": null,
            "grid_auto_rows": null,
            "grid_column": null,
            "grid_gap": null,
            "grid_row": null,
            "grid_template_areas": null,
            "grid_template_columns": null,
            "grid_template_rows": null,
            "height": null,
            "justify_content": null,
            "justify_items": null,
            "left": null,
            "margin": null,
            "max_height": null,
            "max_width": null,
            "min_height": null,
            "min_width": null,
            "object_fit": null,
            "object_position": null,
            "order": null,
            "overflow": null,
            "overflow_x": null,
            "overflow_y": null,
            "padding": null,
            "right": null,
            "top": null,
            "visibility": null,
            "width": null
          }
        },
        "605f45ea5a634dc8984e006d3e286fb1": {
          "model_module": "@jupyter-widgets/controls",
          "model_name": "DescriptionStyleModel",
          "model_module_version": "1.5.0",
          "state": {
            "_model_module": "@jupyter-widgets/controls",
            "_model_module_version": "1.5.0",
            "_model_name": "DescriptionStyleModel",
            "_view_count": null,
            "_view_module": "@jupyter-widgets/base",
            "_view_module_version": "1.2.0",
            "_view_name": "StyleView",
            "description_width": ""
          }
        },
        "bf9521a3a3354f028adccec094a46108": {
          "model_module": "@jupyter-widgets/base",
          "model_name": "LayoutModel",
          "model_module_version": "1.2.0",
          "state": {
            "_model_module": "@jupyter-widgets/base",
            "_model_module_version": "1.2.0",
            "_model_name": "LayoutModel",
            "_view_count": null,
            "_view_module": "@jupyter-widgets/base",
            "_view_module_version": "1.2.0",
            "_view_name": "LayoutView",
            "align_content": null,
            "align_items": null,
            "align_self": null,
            "border": null,
            "bottom": null,
            "display": null,
            "flex": null,
            "flex_flow": null,
            "grid_area": null,
            "grid_auto_columns": null,
            "grid_auto_flow": null,
            "grid_auto_rows": null,
            "grid_column": null,
            "grid_gap": null,
            "grid_row": null,
            "grid_template_areas": null,
            "grid_template_columns": null,
            "grid_template_rows": null,
            "height": null,
            "justify_content": null,
            "justify_items": null,
            "left": null,
            "margin": null,
            "max_height": null,
            "max_width": null,
            "min_height": null,
            "min_width": null,
            "object_fit": null,
            "object_position": null,
            "order": null,
            "overflow": null,
            "overflow_x": null,
            "overflow_y": null,
            "padding": null,
            "right": null,
            "top": null,
            "visibility": null,
            "width": null
          }
        },
        "72fbb0455e884448858f45743997436c": {
          "model_module": "@jupyter-widgets/controls",
          "model_name": "ProgressStyleModel",
          "model_module_version": "1.5.0",
          "state": {
            "_model_module": "@jupyter-widgets/controls",
            "_model_module_version": "1.5.0",
            "_model_name": "ProgressStyleModel",
            "_view_count": null,
            "_view_module": "@jupyter-widgets/base",
            "_view_module_version": "1.2.0",
            "_view_name": "StyleView",
            "bar_color": null,
            "description_width": ""
          }
        },
        "4012e032f0434d7a80a19ff48251e564": {
          "model_module": "@jupyter-widgets/base",
          "model_name": "LayoutModel",
          "model_module_version": "1.2.0",
          "state": {
            "_model_module": "@jupyter-widgets/base",
            "_model_module_version": "1.2.0",
            "_model_name": "LayoutModel",
            "_view_count": null,
            "_view_module": "@jupyter-widgets/base",
            "_view_module_version": "1.2.0",
            "_view_name": "LayoutView",
            "align_content": null,
            "align_items": null,
            "align_self": null,
            "border": null,
            "bottom": null,
            "display": null,
            "flex": null,
            "flex_flow": null,
            "grid_area": null,
            "grid_auto_columns": null,
            "grid_auto_flow": null,
            "grid_auto_rows": null,
            "grid_column": null,
            "grid_gap": null,
            "grid_row": null,
            "grid_template_areas": null,
            "grid_template_columns": null,
            "grid_template_rows": null,
            "height": null,
            "justify_content": null,
            "justify_items": null,
            "left": null,
            "margin": null,
            "max_height": null,
            "max_width": null,
            "min_height": null,
            "min_width": null,
            "object_fit": null,
            "object_position": null,
            "order": null,
            "overflow": null,
            "overflow_x": null,
            "overflow_y": null,
            "padding": null,
            "right": null,
            "top": null,
            "visibility": null,
            "width": null
          }
        },
        "8f598278a8644079a21f184abb33a73d": {
          "model_module": "@jupyter-widgets/controls",
          "model_name": "DescriptionStyleModel",
          "model_module_version": "1.5.0",
          "state": {
            "_model_module": "@jupyter-widgets/controls",
            "_model_module_version": "1.5.0",
            "_model_name": "DescriptionStyleModel",
            "_view_count": null,
            "_view_module": "@jupyter-widgets/base",
            "_view_module_version": "1.2.0",
            "_view_name": "StyleView",
            "description_width": ""
          }
        },
        "d10def600c414d688fde8fe230c11940": {
          "model_module": "@jupyter-widgets/controls",
          "model_name": "VBoxModel",
          "model_module_version": "1.5.0",
          "state": {
            "_dom_classes": [],
            "_model_module": "@jupyter-widgets/controls",
            "_model_module_version": "1.5.0",
            "_model_name": "VBoxModel",
            "_view_count": null,
            "_view_module": "@jupyter-widgets/controls",
            "_view_module_version": "1.5.0",
            "_view_name": "VBoxView",
            "box_style": "",
            "children": [
              "IPY_MODEL_f0f8832c318d45bdba2053404b9727ba",
              "IPY_MODEL_5ffe986de095406a9c4fc63818224f4e"
            ],
            "layout": "IPY_MODEL_785939da03094a96973f6d7c9a9cfed3"
          }
        },
        "f0f8832c318d45bdba2053404b9727ba": {
          "model_module": "@jupyter-widgets/controls",
          "model_name": "LabelModel",
          "model_module_version": "1.5.0",
          "state": {
            "_dom_classes": [],
            "_model_module": "@jupyter-widgets/controls",
            "_model_module_version": "1.5.0",
            "_model_name": "LabelModel",
            "_view_count": null,
            "_view_module": "@jupyter-widgets/controls",
            "_view_module_version": "1.5.0",
            "_view_name": "LabelView",
            "description": "",
            "description_tooltip": null,
            "layout": "IPY_MODEL_a6a04769016b4ccd817c70a3afe053e5",
            "placeholder": "​",
            "style": "IPY_MODEL_bf9e4becb43f4131aa5b36b09be5a55a",
            "value": "0.012 MB of 0.012 MB uploaded\r"
          }
        },
        "5ffe986de095406a9c4fc63818224f4e": {
          "model_module": "@jupyter-widgets/controls",
          "model_name": "FloatProgressModel",
          "model_module_version": "1.5.0",
          "state": {
            "_dom_classes": [],
            "_model_module": "@jupyter-widgets/controls",
            "_model_module_version": "1.5.0",
            "_model_name": "FloatProgressModel",
            "_view_count": null,
            "_view_module": "@jupyter-widgets/controls",
            "_view_module_version": "1.5.0",
            "_view_name": "ProgressView",
            "bar_style": "",
            "description": "",
            "description_tooltip": null,
            "layout": "IPY_MODEL_b2f6ed5cec884ebb8f0152a090f022a7",
            "max": 1,
            "min": 0,
            "orientation": "horizontal",
            "style": "IPY_MODEL_bd9a03274d014ede8a18617c94c9191e",
            "value": 1
          }
        },
        "785939da03094a96973f6d7c9a9cfed3": {
          "model_module": "@jupyter-widgets/base",
          "model_name": "LayoutModel",
          "model_module_version": "1.2.0",
          "state": {
            "_model_module": "@jupyter-widgets/base",
            "_model_module_version": "1.2.0",
            "_model_name": "LayoutModel",
            "_view_count": null,
            "_view_module": "@jupyter-widgets/base",
            "_view_module_version": "1.2.0",
            "_view_name": "LayoutView",
            "align_content": null,
            "align_items": null,
            "align_self": null,
            "border": null,
            "bottom": null,
            "display": null,
            "flex": null,
            "flex_flow": null,
            "grid_area": null,
            "grid_auto_columns": null,
            "grid_auto_flow": null,
            "grid_auto_rows": null,
            "grid_column": null,
            "grid_gap": null,
            "grid_row": null,
            "grid_template_areas": null,
            "grid_template_columns": null,
            "grid_template_rows": null,
            "height": null,
            "justify_content": null,
            "justify_items": null,
            "left": null,
            "margin": null,
            "max_height": null,
            "max_width": null,
            "min_height": null,
            "min_width": null,
            "object_fit": null,
            "object_position": null,
            "order": null,
            "overflow": null,
            "overflow_x": null,
            "overflow_y": null,
            "padding": null,
            "right": null,
            "top": null,
            "visibility": null,
            "width": null
          }
        },
        "a6a04769016b4ccd817c70a3afe053e5": {
          "model_module": "@jupyter-widgets/base",
          "model_name": "LayoutModel",
          "model_module_version": "1.2.0",
          "state": {
            "_model_module": "@jupyter-widgets/base",
            "_model_module_version": "1.2.0",
            "_model_name": "LayoutModel",
            "_view_count": null,
            "_view_module": "@jupyter-widgets/base",
            "_view_module_version": "1.2.0",
            "_view_name": "LayoutView",
            "align_content": null,
            "align_items": null,
            "align_self": null,
            "border": null,
            "bottom": null,
            "display": null,
            "flex": null,
            "flex_flow": null,
            "grid_area": null,
            "grid_auto_columns": null,
            "grid_auto_flow": null,
            "grid_auto_rows": null,
            "grid_column": null,
            "grid_gap": null,
            "grid_row": null,
            "grid_template_areas": null,
            "grid_template_columns": null,
            "grid_template_rows": null,
            "height": null,
            "justify_content": null,
            "justify_items": null,
            "left": null,
            "margin": null,
            "max_height": null,
            "max_width": null,
            "min_height": null,
            "min_width": null,
            "object_fit": null,
            "object_position": null,
            "order": null,
            "overflow": null,
            "overflow_x": null,
            "overflow_y": null,
            "padding": null,
            "right": null,
            "top": null,
            "visibility": null,
            "width": null
          }
        },
        "bf9e4becb43f4131aa5b36b09be5a55a": {
          "model_module": "@jupyter-widgets/controls",
          "model_name": "DescriptionStyleModel",
          "model_module_version": "1.5.0",
          "state": {
            "_model_module": "@jupyter-widgets/controls",
            "_model_module_version": "1.5.0",
            "_model_name": "DescriptionStyleModel",
            "_view_count": null,
            "_view_module": "@jupyter-widgets/base",
            "_view_module_version": "1.2.0",
            "_view_name": "StyleView",
            "description_width": ""
          }
        },
        "b2f6ed5cec884ebb8f0152a090f022a7": {
          "model_module": "@jupyter-widgets/base",
          "model_name": "LayoutModel",
          "model_module_version": "1.2.0",
          "state": {
            "_model_module": "@jupyter-widgets/base",
            "_model_module_version": "1.2.0",
            "_model_name": "LayoutModel",
            "_view_count": null,
            "_view_module": "@jupyter-widgets/base",
            "_view_module_version": "1.2.0",
            "_view_name": "LayoutView",
            "align_content": null,
            "align_items": null,
            "align_self": null,
            "border": null,
            "bottom": null,
            "display": null,
            "flex": null,
            "flex_flow": null,
            "grid_area": null,
            "grid_auto_columns": null,
            "grid_auto_flow": null,
            "grid_auto_rows": null,
            "grid_column": null,
            "grid_gap": null,
            "grid_row": null,
            "grid_template_areas": null,
            "grid_template_columns": null,
            "grid_template_rows": null,
            "height": null,
            "justify_content": null,
            "justify_items": null,
            "left": null,
            "margin": null,
            "max_height": null,
            "max_width": null,
            "min_height": null,
            "min_width": null,
            "object_fit": null,
            "object_position": null,
            "order": null,
            "overflow": null,
            "overflow_x": null,
            "overflow_y": null,
            "padding": null,
            "right": null,
            "top": null,
            "visibility": null,
            "width": null
          }
        },
        "bd9a03274d014ede8a18617c94c9191e": {
          "model_module": "@jupyter-widgets/controls",
          "model_name": "ProgressStyleModel",
          "model_module_version": "1.5.0",
          "state": {
            "_model_module": "@jupyter-widgets/controls",
            "_model_module_version": "1.5.0",
            "_model_name": "ProgressStyleModel",
            "_view_count": null,
            "_view_module": "@jupyter-widgets/base",
            "_view_module_version": "1.2.0",
            "_view_name": "StyleView",
            "bar_color": null,
            "description_width": ""
          }
        },
        "c1de641001994ff0a03339c90137f883": {
          "model_module": "@jupyter-widgets/controls",
          "model_name": "HBoxModel",
          "model_module_version": "1.5.0",
          "state": {
            "_dom_classes": [],
            "_model_module": "@jupyter-widgets/controls",
            "_model_module_version": "1.5.0",
            "_model_name": "HBoxModel",
            "_view_count": null,
            "_view_module": "@jupyter-widgets/controls",
            "_view_module_version": "1.5.0",
            "_view_name": "HBoxView",
            "box_style": "",
            "children": [
              "IPY_MODEL_e2aeb1e202184cf297fd4e50add4bd78",
              "IPY_MODEL_681e01ebd69c435c9ab0a5f170d4a797",
              "IPY_MODEL_3006a23899e2462f99d2607bfba75ba2"
            ],
            "layout": "IPY_MODEL_10b630a1ec664f609c1af0b926f112a1"
          }
        },
        "e2aeb1e202184cf297fd4e50add4bd78": {
          "model_module": "@jupyter-widgets/controls",
          "model_name": "HTMLModel",
          "model_module_version": "1.5.0",
          "state": {
            "_dom_classes": [],
            "_model_module": "@jupyter-widgets/controls",
            "_model_module_version": "1.5.0",
            "_model_name": "HTMLModel",
            "_view_count": null,
            "_view_module": "@jupyter-widgets/controls",
            "_view_module_version": "1.5.0",
            "_view_name": "HTMLView",
            "description": "",
            "description_tooltip": null,
            "layout": "IPY_MODEL_b012b99094d0490abab51f89a7ba2b10",
            "placeholder": "​",
            "style": "IPY_MODEL_b0f60fea17684475969671189b4c1881",
            "value": "Episode Loop:   3%"
          }
        },
        "681e01ebd69c435c9ab0a5f170d4a797": {
          "model_module": "@jupyter-widgets/controls",
          "model_name": "FloatProgressModel",
          "model_module_version": "1.5.0",
          "state": {
            "_dom_classes": [],
            "_model_module": "@jupyter-widgets/controls",
            "_model_module_version": "1.5.0",
            "_model_name": "FloatProgressModel",
            "_view_count": null,
            "_view_module": "@jupyter-widgets/controls",
            "_view_module_version": "1.5.0",
            "_view_name": "ProgressView",
            "bar_style": "",
            "description": "",
            "description_tooltip": null,
            "layout": "IPY_MODEL_ad55425ea75d46bbab26c790ae9cd236",
            "max": 1000,
            "min": 0,
            "orientation": "horizontal",
            "style": "IPY_MODEL_718311190d1248fd912204fa9bf82dc4",
            "value": 28
          }
        },
        "3006a23899e2462f99d2607bfba75ba2": {
          "model_module": "@jupyter-widgets/controls",
          "model_name": "HTMLModel",
          "model_module_version": "1.5.0",
          "state": {
            "_dom_classes": [],
            "_model_module": "@jupyter-widgets/controls",
            "_model_module_version": "1.5.0",
            "_model_name": "HTMLModel",
            "_view_count": null,
            "_view_module": "@jupyter-widgets/controls",
            "_view_module_version": "1.5.0",
            "_view_name": "HTMLView",
            "description": "",
            "description_tooltip": null,
            "layout": "IPY_MODEL_85b73703db1d43349f0d0effe034ac18",
            "placeholder": "​",
            "style": "IPY_MODEL_bbac6a632cf24852acb381bac0b1c2c4",
            "value": " 28/1000 [00:07&lt;03:29,  4.65it/s]"
          }
        },
        "10b630a1ec664f609c1af0b926f112a1": {
          "model_module": "@jupyter-widgets/base",
          "model_name": "LayoutModel",
          "model_module_version": "1.2.0",
          "state": {
            "_model_module": "@jupyter-widgets/base",
            "_model_module_version": "1.2.0",
            "_model_name": "LayoutModel",
            "_view_count": null,
            "_view_module": "@jupyter-widgets/base",
            "_view_module_version": "1.2.0",
            "_view_name": "LayoutView",
            "align_content": null,
            "align_items": null,
            "align_self": null,
            "border": null,
            "bottom": null,
            "display": null,
            "flex": null,
            "flex_flow": null,
            "grid_area": null,
            "grid_auto_columns": null,
            "grid_auto_flow": null,
            "grid_auto_rows": null,
            "grid_column": null,
            "grid_gap": null,
            "grid_row": null,
            "grid_template_areas": null,
            "grid_template_columns": null,
            "grid_template_rows": null,
            "height": null,
            "justify_content": null,
            "justify_items": null,
            "left": null,
            "margin": null,
            "max_height": null,
            "max_width": null,
            "min_height": null,
            "min_width": null,
            "object_fit": null,
            "object_position": null,
            "order": null,
            "overflow": null,
            "overflow_x": null,
            "overflow_y": null,
            "padding": null,
            "right": null,
            "top": null,
            "visibility": null,
            "width": null
          }
        },
        "b012b99094d0490abab51f89a7ba2b10": {
          "model_module": "@jupyter-widgets/base",
          "model_name": "LayoutModel",
          "model_module_version": "1.2.0",
          "state": {
            "_model_module": "@jupyter-widgets/base",
            "_model_module_version": "1.2.0",
            "_model_name": "LayoutModel",
            "_view_count": null,
            "_view_module": "@jupyter-widgets/base",
            "_view_module_version": "1.2.0",
            "_view_name": "LayoutView",
            "align_content": null,
            "align_items": null,
            "align_self": null,
            "border": null,
            "bottom": null,
            "display": null,
            "flex": null,
            "flex_flow": null,
            "grid_area": null,
            "grid_auto_columns": null,
            "grid_auto_flow": null,
            "grid_auto_rows": null,
            "grid_column": null,
            "grid_gap": null,
            "grid_row": null,
            "grid_template_areas": null,
            "grid_template_columns": null,
            "grid_template_rows": null,
            "height": null,
            "justify_content": null,
            "justify_items": null,
            "left": null,
            "margin": null,
            "max_height": null,
            "max_width": null,
            "min_height": null,
            "min_width": null,
            "object_fit": null,
            "object_position": null,
            "order": null,
            "overflow": null,
            "overflow_x": null,
            "overflow_y": null,
            "padding": null,
            "right": null,
            "top": null,
            "visibility": null,
            "width": null
          }
        },
        "b0f60fea17684475969671189b4c1881": {
          "model_module": "@jupyter-widgets/controls",
          "model_name": "DescriptionStyleModel",
          "model_module_version": "1.5.0",
          "state": {
            "_model_module": "@jupyter-widgets/controls",
            "_model_module_version": "1.5.0",
            "_model_name": "DescriptionStyleModel",
            "_view_count": null,
            "_view_module": "@jupyter-widgets/base",
            "_view_module_version": "1.2.0",
            "_view_name": "StyleView",
            "description_width": ""
          }
        },
        "ad55425ea75d46bbab26c790ae9cd236": {
          "model_module": "@jupyter-widgets/base",
          "model_name": "LayoutModel",
          "model_module_version": "1.2.0",
          "state": {
            "_model_module": "@jupyter-widgets/base",
            "_model_module_version": "1.2.0",
            "_model_name": "LayoutModel",
            "_view_count": null,
            "_view_module": "@jupyter-widgets/base",
            "_view_module_version": "1.2.0",
            "_view_name": "LayoutView",
            "align_content": null,
            "align_items": null,
            "align_self": null,
            "border": null,
            "bottom": null,
            "display": null,
            "flex": null,
            "flex_flow": null,
            "grid_area": null,
            "grid_auto_columns": null,
            "grid_auto_flow": null,
            "grid_auto_rows": null,
            "grid_column": null,
            "grid_gap": null,
            "grid_row": null,
            "grid_template_areas": null,
            "grid_template_columns": null,
            "grid_template_rows": null,
            "height": null,
            "justify_content": null,
            "justify_items": null,
            "left": null,
            "margin": null,
            "max_height": null,
            "max_width": null,
            "min_height": null,
            "min_width": null,
            "object_fit": null,
            "object_position": null,
            "order": null,
            "overflow": null,
            "overflow_x": null,
            "overflow_y": null,
            "padding": null,
            "right": null,
            "top": null,
            "visibility": null,
            "width": null
          }
        },
        "718311190d1248fd912204fa9bf82dc4": {
          "model_module": "@jupyter-widgets/controls",
          "model_name": "ProgressStyleModel",
          "model_module_version": "1.5.0",
          "state": {
            "_model_module": "@jupyter-widgets/controls",
            "_model_module_version": "1.5.0",
            "_model_name": "ProgressStyleModel",
            "_view_count": null,
            "_view_module": "@jupyter-widgets/base",
            "_view_module_version": "1.2.0",
            "_view_name": "StyleView",
            "bar_color": null,
            "description_width": ""
          }
        },
        "85b73703db1d43349f0d0effe034ac18": {
          "model_module": "@jupyter-widgets/base",
          "model_name": "LayoutModel",
          "model_module_version": "1.2.0",
          "state": {
            "_model_module": "@jupyter-widgets/base",
            "_model_module_version": "1.2.0",
            "_model_name": "LayoutModel",
            "_view_count": null,
            "_view_module": "@jupyter-widgets/base",
            "_view_module_version": "1.2.0",
            "_view_name": "LayoutView",
            "align_content": null,
            "align_items": null,
            "align_self": null,
            "border": null,
            "bottom": null,
            "display": null,
            "flex": null,
            "flex_flow": null,
            "grid_area": null,
            "grid_auto_columns": null,
            "grid_auto_flow": null,
            "grid_auto_rows": null,
            "grid_column": null,
            "grid_gap": null,
            "grid_row": null,
            "grid_template_areas": null,
            "grid_template_columns": null,
            "grid_template_rows": null,
            "height": null,
            "justify_content": null,
            "justify_items": null,
            "left": null,
            "margin": null,
            "max_height": null,
            "max_width": null,
            "min_height": null,
            "min_width": null,
            "object_fit": null,
            "object_position": null,
            "order": null,
            "overflow": null,
            "overflow_x": null,
            "overflow_y": null,
            "padding": null,
            "right": null,
            "top": null,
            "visibility": null,
            "width": null
          }
        },
        "bbac6a632cf24852acb381bac0b1c2c4": {
          "model_module": "@jupyter-widgets/controls",
          "model_name": "DescriptionStyleModel",
          "model_module_version": "1.5.0",
          "state": {
            "_model_module": "@jupyter-widgets/controls",
            "_model_module_version": "1.5.0",
            "_model_name": "DescriptionStyleModel",
            "_view_count": null,
            "_view_module": "@jupyter-widgets/base",
            "_view_module_version": "1.2.0",
            "_view_name": "StyleView",
            "description_width": ""
          }
        }
      }
    }
  },
  "cells": [
    {
      "cell_type": "code",
      "execution_count": 1,
      "metadata": {
        "colab": {
          "base_uri": "https://localhost:8080/"
        },
        "id": "OTnjdK9eucNw",
        "outputId": "f8623a79-0e9a-4a65-9416-ae7148e7250c"
      },
      "outputs": [
        {
          "output_type": "stream",
          "name": "stdout",
          "text": [
            "Cloning into 'coup'...\n",
            "remote: Enumerating objects: 260, done.\u001b[K\n",
            "remote: Counting objects: 100% (260/260), done.\u001b[K\n",
            "remote: Compressing objects: 100% (193/193), done.\u001b[K\n",
            "remote: Total 260 (delta 148), reused 157 (delta 62), pack-reused 0\u001b[K\n",
            "Receiving objects: 100% (260/260), 3.24 MiB | 4.45 MiB/s, done.\n",
            "Resolving deltas: 100% (148/148), done.\n"
          ]
        }
      ],
      "source": [
        "!git clone https://github.com/okg21/coup.git\n",
        "!cd coup"
      ]
    },
    {
      "cell_type": "code",
      "source": [
        "!pip install wandb"
      ],
      "metadata": {
        "colab": {
          "base_uri": "https://localhost:8080/"
        },
        "id": "yC_ZA-a2krGy",
        "outputId": "602ff882-ddab-43c2-eb2b-b469f76e0708"
      },
      "execution_count": 2,
      "outputs": [
        {
          "output_type": "stream",
          "name": "stdout",
          "text": [
            "Collecting wandb\n",
            "  Downloading wandb-0.16.1-py3-none-any.whl (2.1 MB)\n",
            "\u001b[2K     \u001b[90m━━━━━━━━━━━━━━━━━━━━━━━━━━━━━━━━━━━━━━━━\u001b[0m \u001b[32m2.1/2.1 MB\u001b[0m \u001b[31m15.0 MB/s\u001b[0m eta \u001b[36m0:00:00\u001b[0m\n",
            "\u001b[?25hRequirement already satisfied: Click!=8.0.0,>=7.1 in /usr/local/lib/python3.10/dist-packages (from wandb) (8.1.7)\n",
            "Collecting GitPython!=3.1.29,>=1.0.0 (from wandb)\n",
            "  Downloading GitPython-3.1.40-py3-none-any.whl (190 kB)\n",
            "\u001b[2K     \u001b[90m━━━━━━━━━━━━━━━━━━━━━━━━━━━━━━━━━━━━━━━━\u001b[0m \u001b[32m190.6/190.6 kB\u001b[0m \u001b[31m17.3 MB/s\u001b[0m eta \u001b[36m0:00:00\u001b[0m\n",
            "\u001b[?25hRequirement already satisfied: requests<3,>=2.0.0 in /usr/local/lib/python3.10/dist-packages (from wandb) (2.31.0)\n",
            "Requirement already satisfied: psutil>=5.0.0 in /usr/local/lib/python3.10/dist-packages (from wandb) (5.9.5)\n",
            "Collecting sentry-sdk>=1.0.0 (from wandb)\n",
            "  Downloading sentry_sdk-1.39.0-py2.py3-none-any.whl (254 kB)\n",
            "\u001b[2K     \u001b[90m━━━━━━━━━━━━━━━━━━━━━━━━━━━━━━━━━━━━━━━━\u001b[0m \u001b[32m254.0/254.0 kB\u001b[0m \u001b[31m21.4 MB/s\u001b[0m eta \u001b[36m0:00:00\u001b[0m\n",
            "\u001b[?25hCollecting docker-pycreds>=0.4.0 (from wandb)\n",
            "  Downloading docker_pycreds-0.4.0-py2.py3-none-any.whl (9.0 kB)\n",
            "Requirement already satisfied: PyYAML in /usr/local/lib/python3.10/dist-packages (from wandb) (6.0.1)\n",
            "Collecting setproctitle (from wandb)\n",
            "  Downloading setproctitle-1.3.3-cp310-cp310-manylinux_2_5_x86_64.manylinux1_x86_64.manylinux_2_17_x86_64.manylinux2014_x86_64.whl (30 kB)\n",
            "Requirement already satisfied: setuptools in /usr/local/lib/python3.10/dist-packages (from wandb) (67.7.2)\n",
            "Requirement already satisfied: appdirs>=1.4.3 in /usr/local/lib/python3.10/dist-packages (from wandb) (1.4.4)\n",
            "Requirement already satisfied: protobuf!=4.21.0,<5,>=3.19.0 in /usr/local/lib/python3.10/dist-packages (from wandb) (3.20.3)\n",
            "Requirement already satisfied: six>=1.4.0 in /usr/local/lib/python3.10/dist-packages (from docker-pycreds>=0.4.0->wandb) (1.16.0)\n",
            "Collecting gitdb<5,>=4.0.1 (from GitPython!=3.1.29,>=1.0.0->wandb)\n",
            "  Downloading gitdb-4.0.11-py3-none-any.whl (62 kB)\n",
            "\u001b[2K     \u001b[90m━━━━━━━━━━━━━━━━━━━━━━━━━━━━━━━━━━━━━━━━\u001b[0m \u001b[32m62.7/62.7 kB\u001b[0m \u001b[31m9.3 MB/s\u001b[0m eta \u001b[36m0:00:00\u001b[0m\n",
            "\u001b[?25hRequirement already satisfied: charset-normalizer<4,>=2 in /usr/local/lib/python3.10/dist-packages (from requests<3,>=2.0.0->wandb) (3.3.2)\n",
            "Requirement already satisfied: idna<4,>=2.5 in /usr/local/lib/python3.10/dist-packages (from requests<3,>=2.0.0->wandb) (3.6)\n",
            "Requirement already satisfied: urllib3<3,>=1.21.1 in /usr/local/lib/python3.10/dist-packages (from requests<3,>=2.0.0->wandb) (2.0.7)\n",
            "Requirement already satisfied: certifi>=2017.4.17 in /usr/local/lib/python3.10/dist-packages (from requests<3,>=2.0.0->wandb) (2023.11.17)\n",
            "Collecting smmap<6,>=3.0.1 (from gitdb<5,>=4.0.1->GitPython!=3.1.29,>=1.0.0->wandb)\n",
            "  Downloading smmap-5.0.1-py3-none-any.whl (24 kB)\n",
            "Installing collected packages: smmap, setproctitle, sentry-sdk, docker-pycreds, gitdb, GitPython, wandb\n",
            "Successfully installed GitPython-3.1.40 docker-pycreds-0.4.0 gitdb-4.0.11 sentry-sdk-1.39.0 setproctitle-1.3.3 smmap-5.0.1 wandb-0.16.1\n"
          ]
        }
      ]
    },
    {
      "cell_type": "code",
      "source": [
        "#add /coup to path\n",
        "import sys\n",
        "sys.path.append('/content/coup')"
      ],
      "metadata": {
        "id": "y2biuSQqu2ng"
      },
      "execution_count": 3,
      "outputs": []
    },
    {
      "cell_type": "code",
      "source": [
        "# import statements\n",
        "import torch\n",
        "import torch.nn as nn\n",
        "import torch.optim as optim\n",
        "import numpy as np\n",
        "from collections import deque\n",
        "from tqdm.notebook import tqdm\n",
        "import random\n",
        "import matplotlib.pyplot as plt\n",
        "import importlib\n",
        "import wandb\n",
        "\n",
        "import player\n",
        "import rl_player\n",
        "importlib.reload(player)\n",
        "importlib.reload(rl_player)\n",
        "from player import *\n",
        "from rl_player import *\n",
        "\n",
        "#get torch device\n",
        "device = torch.device(\"cuda:0\" if torch.cuda.is_available() else \"cpu\")"
      ],
      "metadata": {
        "id": "t9jANK-yu0Ed"
      },
      "execution_count": 4,
      "outputs": []
    },
    {
      "cell_type": "code",
      "source": [
        "NUM_GAMES = 100\n",
        "\n",
        "def run_simulation(players, shuffle_turn_order=False, num_games=NUM_GAMES):\n",
        "    winners = []\n",
        "\n",
        "    for game_index in range(num_games):\n",
        "        if shuffle_turn_order:\n",
        "            random.shuffle(players)\n",
        "        game = Game(players, debug=False)\n",
        "\n",
        "        turn_count = 0\n",
        "        while len(game.game_state['players']) > 1:\n",
        "            game.simulate_turn()\n",
        "            turn_count += 1\n",
        "            if turn_count > 100:\n",
        "                break\n",
        "        winner = game.game_state['players'][0].name\n",
        "        winners.append(winner)\n",
        "    return winners"
      ],
      "metadata": {
        "id": "E5DfT7kCu626"
      },
      "execution_count": 5,
      "outputs": []
    },
    {
      "cell_type": "code",
      "source": [
        "def train_agent(agent, env, num_episodes, max_steps, batch_size, reward_dict, update_freq, sample_freq, sp_update_freq=10,\n",
        "                win_threshold=0.8, display_progress=False, save_model=False, player_types=[]):\n",
        "    total_rewards = []\n",
        "    win_rates = []\n",
        "    best_winrate = 0.0\n",
        "\n",
        "    for episode in tqdm(range(num_episodes), desc='Episode Loop'):\n",
        "        initial_state = env.reset()\n",
        "        state = initial_state\n",
        "        done = False\n",
        "        total_reward = 0\n",
        "        step = 0\n",
        "\n",
        "        while not done and step <= max_steps:\n",
        "            # Environment stepping\n",
        "            action, next_state, reward, done = env.step(reward_dict)\n",
        "\n",
        "            # For adding experience\n",
        "            agent.add_experience(state, action, reward, next_state, done)\n",
        "\n",
        "            # Update the game state and history for the next iteration\n",
        "            state = next_state\n",
        "            total_reward += reward\n",
        "            step += 1\n",
        "\n",
        "        # Replaying experience\n",
        "        if len(agent.replay_buffer) >= batch_size and step % update_freq == 0:\n",
        "            agent.replay_experience(batch_size, agent.name)\n",
        "\n",
        "        # Decay epsilon\n",
        "        agent.epsilon = max(agent.epsilon * agent.epsilon_decay, agent.epsilon_min)\n",
        "\n",
        "        # Save the total reward for this episode\n",
        "        total_rewards.append(total_reward)\n",
        "\n",
        "        # Log the total reward for this episode\n",
        "        wandb.log({\"total_reward\": total_reward})\n",
        "\n",
        "        if display_progress and episode % sample_freq == 0:\n",
        "            winners = run_simulation(env.players)\n",
        "            win_pct = len([w for w in winners if w == agent.name]) / len(winners)\n",
        "\n",
        "            # Log the win rate for this episode\n",
        "            wandb.log({\"win_rate\": win_pct})\n",
        "            win_rates.append(win_pct)\n",
        "\n",
        "            if win_pct > best_winrate:\n",
        "                # Save the model\n",
        "                best_winrate = win_pct\n",
        "                #agent.save_model('models/{0}-{1}-{2}'.format(len(env.players), num_episodes, ','.join(player_types)))\n",
        "                wandb.save('models/{0}-{1}-{2}'.format(len(env.players), num_episodes, ','.join(player_types)))\n",
        "\n",
        "            # Print win rates\n",
        "            print(f\"Episode {episode + 1}/{num_episodes} - Win Rate: {win_pct} - Epsilon: {agent.epsilon}\")\n",
        "\n",
        "            # If last sp_update_freq win rates are all over threshold, update the other players to main agent's weights\n",
        "            if len(win_rates) >= sp_update_freq and all([w > win_threshold for w in win_rates[-sp_update_freq:]]):\n",
        "                for player in env.players:\n",
        "                    if player.agent is not None and player.name != agent.name:\n",
        "                        # TO-DO: Maybe empty the replay buffer?\n",
        "                        player.agent.model.load_state_dict(agent.model.state_dict())\n",
        "                        player.agent.target_model.load_state_dict(agent.target_model.state_dict())\n",
        "                        print(f\"Updating {player.name} to {agent.name}'s weights\")\n",
        "\n",
        "    if display_progress:\n",
        "        # Plot the win rate over time\n",
        "        plt.plot([x * sample_freq + 1 for x in list(range(len(win_rates)))], win_rates, label=\"agent win rate\")\n",
        "        plt.plot([x * sample_freq + 1 for x in list(range(len(win_rates)))], [1 / len(env.players) for _ in range(len(win_rates))], label=\"expected win rate\", linestyle='dashed')\n",
        "        plt.legend()\n",
        "        plt.title('Q-Learning win rate over time')\n",
        "        plt.ylabel('win rate')\n",
        "        plt.xlabel('number of episodes')\n",
        "        plt.show()\n",
        "\n",
        "    return total_rewards, win_rates"
      ],
      "metadata": {
        "id": "ITj6t7VVu8mA"
      },
      "execution_count": 6,
      "outputs": []
    },
    {
      "cell_type": "code",
      "source": [
        "def self_play_training(n, reward_dict, learning_rate, gamma, epsilon_decay, h_dim, h_layers, tau,\n",
        "                        buffer_size, num_episodes, batch_size, max_steps_per_episode,\n",
        "                        update_freq, sample_freq, sp_update_freq, win_threshold, history_length=5, display_progress=True):\n",
        "\n",
        "  action_dim = 5\n",
        "  block_size = 2\n",
        "  turn_dim = action_dim + n * 3 + block_size * 2\n",
        "  state_dim = (10 + 11 * n) + (history_length * turn_dim)\n",
        "  action_dim = 1 + 3 * n\n",
        "\n",
        "\n",
        "\n",
        "  agent1 = QLearningAgent(state_dim, action_dim, learning_rate, gamma, 'Player 1', True, history_length=history_length,\n",
        "                          epsilon_decay=epsilon_decay, h_dim= h_dim, h_layers=h_layers, tau=tau, buffer_size=buffer_size)\n",
        "\n",
        "  agents = []\n",
        "  for i in range(2, n+1):\n",
        "    agent = QLearningAgent(state_dim, action_dim, learning_rate, gamma, f'Player {i}', False, history_length=history_length,\n",
        "                          epsilon_decay=epsilon_decay,h_dim= h_dim, h_layers=h_layers, tau=tau, buffer_size=buffer_size)\n",
        "    agents.append(agent)\n",
        "\n",
        "  RLTRAINING_FUNCS = {\n",
        "    'decision_fn': rltraining_decision,\n",
        "    'block_fn': income_block,\n",
        "    'dispose_fn': random_dispose,\n",
        "    'keep_fn': random_keep\n",
        "  }\n",
        "\n",
        "  players = [Player('Player 1', RLTRAINING_FUNCS, agent1)]\n",
        "  for i in range (2, n+1):\n",
        "    players.append(Player(f'Player {i}', RLTRAINING_FUNCS, agents[i-2]))\n",
        "\n",
        "  env = Environment('Player 1', players)\n",
        "\n",
        "\n",
        "  total_rewards, win_rates = train_agent(\n",
        "    agent1, env, num_episodes, max_steps_per_episode, batch_size, reward_dict,\n",
        "    update_freq=update_freq, sample_freq=sample_freq, sp_update_freq=sp_update_freq, win_threshold=win_threshold,\n",
        "    display_progress=display_progress\n",
        "  )\n",
        "\n",
        "  return total_rewards, win_rates\n"
      ],
      "metadata": {
        "id": "AeMhsfQSu-E-"
      },
      "execution_count": 7,
      "outputs": []
    },
    {
      "cell_type": "code",
      "source": [
        "import wandb\n",
        "wandb.init(project=\"coup-3-player-self-play\")\n",
        "\n",
        "sweep_config = {\n",
        "    'method': 'random',  # Can be \"grid\", \"random\", \"bayes\"\n",
        "    'metric': {\n",
        "      'name': 'win_rate',\n",
        "      'goal': 'maximize'\n",
        "    },\n",
        "    'parameters': {\n",
        "        'learning_rate': {\n",
        "            'min': 1e-4,\n",
        "            'max': 1e-2\n",
        "        },\n",
        "        'update_freq': {\n",
        "            'values': [1, 16, 32, 64, 128]\n",
        "        },\n",
        "        'gamma': {\n",
        "            'values': [0.95, 0.99, 0.999]\n",
        "        },\n",
        "        'epsilon_decay': {\n",
        "            'min': 0.99,\n",
        "            'max': 0.9999\n",
        "        },\n",
        "        'h_dim': {\n",
        "            'values': [128, 256, 512, 1024]\n",
        "        },\n",
        "        'h_layers': {\n",
        "            'values': [2, 3, 4, 5, 6]\n",
        "        },\n",
        "        'tau': {\n",
        "            'min': 1e-4,\n",
        "            'max': 1e-2\n",
        "        },\n",
        "        'batch_size': {\n",
        "            'values': [32, 64, 128, 1024, 4096]\n",
        "        },\n",
        "        'history_length': {\n",
        "            'values': [10, 20, 30, 40, 50]\n",
        "        },\n",
        "        'buffer_size': {\n",
        "            'values': [1e4, 1e5, 1e6, 1e7, 1e8]\n",
        "        },\n",
        "\n",
        "        'COIN_VALUE': {\n",
        "            'min': 0.1,\n",
        "            'max': 0.7\n",
        "        },\n",
        "        'CARD_VALUE': {\n",
        "            'min': 0.3,\n",
        "            'max': 0.7\n",
        "        },\n",
        "        'CARD_DIVERSITY_VALUE': {\n",
        "            'min': 0.0,\n",
        "            'max': 0.3\n",
        "        },\n",
        "        'WIN_VALUE': {\n",
        "            'min': 0.5,\n",
        "            'max': 1.0\n",
        "        },\n",
        "    }\n",
        "}"
      ],
      "metadata": {
        "colab": {
          "base_uri": "https://localhost:8080/",
          "height": 121
        },
        "id": "00VrtXmOhySs",
        "outputId": "e58e80a4-ea1a-4223-a629-31e6f9d92d60"
      },
      "execution_count": 9,
      "outputs": [
        {
          "output_type": "stream",
          "name": "stderr",
          "text": [
            "\u001b[34m\u001b[1mwandb\u001b[0m: Currently logged in as: \u001b[33mokg21\u001b[0m. Use \u001b[1m`wandb login --relogin`\u001b[0m to force relogin\n"
          ]
        },
        {
          "output_type": "display_data",
          "data": {
            "text/plain": [
              "<IPython.core.display.HTML object>"
            ],
            "text/html": [
              "Tracking run with wandb version 0.16.1"
            ]
          },
          "metadata": {}
        },
        {
          "output_type": "display_data",
          "data": {
            "text/plain": [
              "<IPython.core.display.HTML object>"
            ],
            "text/html": [
              "Run data is saved locally in <code>/content/wandb/run-20231212_195938-u0ti51m7</code>"
            ]
          },
          "metadata": {}
        },
        {
          "output_type": "display_data",
          "data": {
            "text/plain": [
              "<IPython.core.display.HTML object>"
            ],
            "text/html": [
              "Syncing run <strong><a href='https://wandb.ai/okg21/coup-3-player-self-play/runs/u0ti51m7' target=\"_blank\">blooming-valley-1</a></strong> to <a href='https://wandb.ai/okg21/coup-3-player-self-play' target=\"_blank\">Weights & Biases</a> (<a href='https://wandb.me/run' target=\"_blank\">docs</a>)<br/>"
            ]
          },
          "metadata": {}
        },
        {
          "output_type": "display_data",
          "data": {
            "text/plain": [
              "<IPython.core.display.HTML object>"
            ],
            "text/html": [
              " View project at <a href='https://wandb.ai/okg21/coup-3-player-self-play' target=\"_blank\">https://wandb.ai/okg21/coup-3-player-self-play</a>"
            ]
          },
          "metadata": {}
        },
        {
          "output_type": "display_data",
          "data": {
            "text/plain": [
              "<IPython.core.display.HTML object>"
            ],
            "text/html": [
              " View run at <a href='https://wandb.ai/okg21/coup-3-player-self-play/runs/u0ti51m7' target=\"_blank\">https://wandb.ai/okg21/coup-3-player-self-play/runs/u0ti51m7</a>"
            ]
          },
          "metadata": {}
        }
      ]
    },
    {
      "cell_type": "code",
      "source": [
        "def train():\n",
        "    # Initialize a new wandb run\n",
        "    with wandb.init() as run:\n",
        "        config = wandb.config\n",
        "\n",
        "        reward_dict = {\n",
        "            'COIN_VALUE': config.COIN_VALUE,\n",
        "            'CARD_VALUE': config.CARD_VALUE,\n",
        "            'CARD_DIVERSITY_VALUE': config.CARD_DIVERSITY_VALUE,\n",
        "            'WIN_VALUE': config.WIN_VALUE\n",
        "        }\n",
        "\n",
        "        # Call your training function with wandb's config\n",
        "        total_rewards, win_rates = self_play_training(\n",
        "            n=3,\n",
        "            reward_dict=reward_dict,\n",
        "            learning_rate=config.learning_rate,\n",
        "            gamma=config.gamma,\n",
        "            epsilon_decay=config.epsilon_decay,\n",
        "            h_dim=config.h_dim,\n",
        "            h_layers=config.h_layers,\n",
        "            tau=config.tau,\n",
        "            buffer_size=config.buffer_size,\n",
        "            num_episodes=1000,\n",
        "            batch_size=config.batch_size,\n",
        "            max_steps_per_episode=100,\n",
        "            update_freq=config.update_freq,\n",
        "            sp_update_freq=5,\n",
        "            sample_freq=100,\n",
        "            win_threshold=0.9,\n",
        "            history_length=config.history_length,\n",
        "            display_progress=True\n",
        "        )\n",
        "\n",
        "        # Log maximum and average values of total_rewards\n",
        "        wandb.log({\"max_total_reward\": max(total_rewards)})\n",
        "        wandb.log({\"avg_total_reward\": sum(total_rewards) / len(total_rewards)})\n",
        "\n",
        "        # Log maximum and average values of win_rates\n",
        "        wandb.log({\"max_win_rate\": max(win_rates)})\n",
        "        wandb.log({\"avg_win_rate\": sum(win_rates) / len(win_rates)})\n",
        "\n"
      ],
      "metadata": {
        "id": "D8N6pAfHbKR7"
      },
      "execution_count": 10,
      "outputs": []
    },
    {
      "cell_type": "code",
      "source": [
        "sweep_id = wandb.sweep(sweep_config, project=\"coup-3-player-self-play\")\n",
        "wandb.agent(sweep_id, train)"
      ],
      "metadata": {
        "colab": {
          "base_uri": "https://localhost:8080/",
          "height": 1000,
          "referenced_widgets": [
            "1a09aa1bc070414ba4b1949df7734cf1",
            "dfa9970a936846e78fddf6443908f885",
            "5949c4ec579f435eb99b4d9502e44463",
            "8014d8650fd148a98a10422a9d615079",
            "3097064d95eb4830afd35bb5dc9f84e2",
            "b81a5143ae8444cd9f41e447e02ffe74",
            "605f45ea5a634dc8984e006d3e286fb1",
            "bf9521a3a3354f028adccec094a46108",
            "72fbb0455e884448858f45743997436c",
            "4012e032f0434d7a80a19ff48251e564",
            "8f598278a8644079a21f184abb33a73d",
            "d10def600c414d688fde8fe230c11940",
            "f0f8832c318d45bdba2053404b9727ba",
            "5ffe986de095406a9c4fc63818224f4e",
            "785939da03094a96973f6d7c9a9cfed3",
            "a6a04769016b4ccd817c70a3afe053e5",
            "bf9e4becb43f4131aa5b36b09be5a55a",
            "b2f6ed5cec884ebb8f0152a090f022a7",
            "bd9a03274d014ede8a18617c94c9191e",
            "c1de641001994ff0a03339c90137f883",
            "e2aeb1e202184cf297fd4e50add4bd78",
            "681e01ebd69c435c9ab0a5f170d4a797",
            "3006a23899e2462f99d2607bfba75ba2",
            "10b630a1ec664f609c1af0b926f112a1",
            "b012b99094d0490abab51f89a7ba2b10",
            "b0f60fea17684475969671189b4c1881",
            "ad55425ea75d46bbab26c790ae9cd236",
            "718311190d1248fd912204fa9bf82dc4",
            "85b73703db1d43349f0d0effe034ac18",
            "bbac6a632cf24852acb381bac0b1c2c4"
          ]
        },
        "id": "a_zmeW-UkhGZ",
        "outputId": "ef6a02f6-6a7b-47c4-b3fa-6817c90ba2c2"
      },
      "execution_count": null,
      "outputs": [
        {
          "metadata": {
            "tags": null
          },
          "name": "stderr",
          "output_type": "stream",
          "text": [
            "\u001b[34m\u001b[1mwandb\u001b[0m: \u001b[33mWARNING\u001b[0m Calling wandb.login() after wandb.init() has no effect.\n"
          ]
        },
        {
          "metadata": {
            "tags": null
          },
          "name": "stdout",
          "output_type": "stream",
          "text": [
            "Create sweep with ID: 1ijcsiwv\n",
            "Sweep URL: https://wandb.ai/okg21/coup-3-player-self-play/sweeps/1ijcsiwv\n"
          ]
        },
        {
          "metadata": {
            "tags": null
          },
          "name": "stderr",
          "output_type": "stream",
          "text": [
            "Exception in thread IntMsgThr:\n",
            "Traceback (most recent call last):\n",
            "  File \"/usr/lib/python3.10/threading.py\", line 1016, in _bootstrap_inner\n",
            "    self.run()\n",
            "  File \"/usr/lib/python3.10/threading.py\", line 953, in run\n",
            "    self._target(*self._args, **self._kwargs)\n",
            "  File \"/usr/local/lib/python3.10/dist-packages/wandb/sdk/wandb_run.py\", line 300, in check_internal_messages\n",
            "    self._loop_check_status(\n",
            "  File \"/usr/local/lib/python3.10/dist-packages/wandb/sdk/wandb_run.py\", line 224, in _loop_check_status\n",
            "    local_handle = request()\n",
            "  File \"/usr/local/lib/python3.10/dist-packages/wandb/sdk/interface/interface.py\", line 764, in deliver_internal_messages\n",
            "    return self._deliver_internal_messages(internal_message)\n",
            "  File \"/usr/local/lib/python3.10/dist-packages/wandb/sdk/interface/interface_shared.py\", line 490, in _deliver_internal_messages\n",
            "    return self._deliver_record(record)\n",
            "  File \"/usr/local/lib/python3.10/dist-packages/wandb/sdk/interface/interface_shared.py\", line 437, in _deliver_record\n",
            "    handle = mailbox._deliver_record(record, interface=self)\n",
            "  File \"/usr/local/lib/python3.10/dist-packages/wandb/sdk/lib/mailbox.py\", line 455, in _deliver_record\n",
            "    interface._publish(record)\n",
            "  File \"/usr/local/lib/python3.10/dist-packages/wandb/sdk/interface/interface_sock.py\", line 51, in _publish\n",
            "    self._sock_client.send_record_publish(record)\n",
            "  File \"/usr/local/lib/python3.10/dist-packages/wandb/sdk/lib/sock_client.py\", line 221, in send_record_publish\n",
            "    self.send_server_request(server_req)\n",
            "  File \"/usr/local/lib/python3.10/dist-packages/wandb/sdk/lib/sock_client.py\", line 155, in send_server_request\n",
            "    self._send_message(msg)\n",
            "  File \"/usr/local/lib/python3.10/dist-packages/wandb/sdk/lib/sock_client.py\", line 152, in _send_message\n",
            "    self._sendall_with_error_handle(header + data)\n",
            "  File \"/usr/local/lib/python3.10/dist-packages/wandb/sdk/lib/sock_client.py\", line 130, in _sendall_with_error_handle\n",
            "    sent = self._sock.send(data)\n",
            "BrokenPipeError: [Errno 32] Broken pipe\n",
            "\u001b[34m\u001b[1mwandb\u001b[0m: Agent Starting Run: gkdxrch0 with config:\n",
            "\u001b[34m\u001b[1mwandb\u001b[0m: \tCARD_DIVERSITY_VALUE: 0.2970453962319831\n",
            "\u001b[34m\u001b[1mwandb\u001b[0m: \tCARD_VALUE: 0.5535699149701169\n",
            "\u001b[34m\u001b[1mwandb\u001b[0m: \tCOIN_VALUE: 0.618967667374559\n",
            "\u001b[34m\u001b[1mwandb\u001b[0m: \tWIN_VALUE: 0.5721025483896036\n",
            "\u001b[34m\u001b[1mwandb\u001b[0m: \tbatch_size: 128\n",
            "\u001b[34m\u001b[1mwandb\u001b[0m: \tbuffer_size: 1000000\n",
            "\u001b[34m\u001b[1mwandb\u001b[0m: \tepsilon_decay: 0.9956156557239448\n",
            "\u001b[34m\u001b[1mwandb\u001b[0m: \tgamma: 0.99\n",
            "\u001b[34m\u001b[1mwandb\u001b[0m: \th_dim: 256\n",
            "\u001b[34m\u001b[1mwandb\u001b[0m: \th_layers: 2\n",
            "\u001b[34m\u001b[1mwandb\u001b[0m: \thistory_length: 50\n",
            "\u001b[34m\u001b[1mwandb\u001b[0m: \tlearning_rate: 0.0007931331176155576\n",
            "\u001b[34m\u001b[1mwandb\u001b[0m: \ttau: 0.005347844929974799\n",
            "\u001b[34m\u001b[1mwandb\u001b[0m: \tupdate_freq: 128\n"
          ]
        },
        {
          "data": {
            "text/html": [
              "Tracking run with wandb version 0.16.1"
            ],
            "text/plain": [
              "<IPython.core.display.HTML object>"
            ]
          },
          "metadata": {},
          "output_type": "display_data"
        },
        {
          "data": {
            "text/html": [
              "Run data is saved locally in <code>/content/wandb/run-20231212_200000-gkdxrch0</code>"
            ],
            "text/plain": [
              "<IPython.core.display.HTML object>"
            ]
          },
          "metadata": {},
          "output_type": "display_data"
        },
        {
          "data": {
            "text/html": [
              "Syncing run <strong><a href='https://wandb.ai/okg21/coup-3-player-self-play/runs/gkdxrch0' target=\"_blank\">silvery-sweep-1</a></strong> to <a href='https://wandb.ai/okg21/coup-3-player-self-play' target=\"_blank\">Weights & Biases</a> (<a href='https://wandb.me/run' target=\"_blank\">docs</a>)<br/>Sweep page: <a href='https://wandb.ai/okg21/coup-3-player-self-play/sweeps/1ijcsiwv' target=\"_blank\">https://wandb.ai/okg21/coup-3-player-self-play/sweeps/1ijcsiwv</a>"
            ],
            "text/plain": [
              "<IPython.core.display.HTML object>"
            ]
          },
          "metadata": {},
          "output_type": "display_data"
        },
        {
          "data": {
            "text/html": [
              " View project at <a href='https://wandb.ai/okg21/coup-3-player-self-play' target=\"_blank\">https://wandb.ai/okg21/coup-3-player-self-play</a>"
            ],
            "text/plain": [
              "<IPython.core.display.HTML object>"
            ]
          },
          "metadata": {},
          "output_type": "display_data"
        },
        {
          "data": {
            "text/html": [
              " View sweep at <a href='https://wandb.ai/okg21/coup-3-player-self-play/sweeps/1ijcsiwv' target=\"_blank\">https://wandb.ai/okg21/coup-3-player-self-play/sweeps/1ijcsiwv</a>"
            ],
            "text/plain": [
              "<IPython.core.display.HTML object>"
            ]
          },
          "metadata": {},
          "output_type": "display_data"
        },
        {
          "data": {
            "text/html": [
              " View run at <a href='https://wandb.ai/okg21/coup-3-player-self-play/runs/gkdxrch0' target=\"_blank\">https://wandb.ai/okg21/coup-3-player-self-play/runs/gkdxrch0</a>"
            ],
            "text/plain": [
              "<IPython.core.display.HTML object>"
            ]
          },
          "metadata": {},
          "output_type": "display_data"
        },
        {
          "data": {
            "application/vnd.jupyter.widget-view+json": {
              "model_id": "1a09aa1bc070414ba4b1949df7734cf1",
              "version_major": 2,
              "version_minor": 0
            },
            "text/plain": [
              "Episode Loop:   0%|          | 0/1000 [00:00<?, ?it/s]"
            ]
          },
          "metadata": {},
          "output_type": "display_data"
        },
        {
          "output_type": "stream",
          "name": "stdout",
          "text": [
            "Episode 1/1000 - Win Rate: 0.35 - Epsilon: 0.9956156557239448\n",
            "Episode 101/1000 - Win Rate: 0.23 - Epsilon: 0.6415986326581747\n",
            "Episode 201/1000 - Win Rate: 0.16 - Epsilon: 0.41346156326711825\n",
            "Episode 301/1000 - Win Rate: 0.16 - Epsilon: 0.2664445583230644\n",
            "Episode 401/1000 - Win Rate: 0.22 - Epsilon: 0.1717032705507083\n",
            "Episode 501/1000 - Win Rate: 0.16 - Epsilon: 0.11064971003109304\n",
            "Episode 601/1000 - Win Rate: 0.23 - Epsilon: 0.07130532977442151\n",
            "Episode 701/1000 - Win Rate: 0.21 - Epsilon: 0.04595086650304143\n",
            "Episode 801/1000 - Win Rate: 0.19 - Epsilon: 0.02961184162614674\n",
            "Episode 901/1000 - Win Rate: 0.25 - Epsilon: 0.019082581705699913\n"
          ]
        },
        {
          "output_type": "display_data",
          "data": {
            "text/plain": [
              "<Figure size 640x480 with 1 Axes>"
            ],
            "image/png": "[encoded data removed]"
          },
          "metadata": {}
        },
        {
          "output_type": "display_data",
          "data": {
            "text/plain": [
              "VBox(children=(Label(value='0.001 MB of 0.001 MB uploaded\\r'), FloatProgress(value=1.0, max=1.0)))"
            ],
            "application/vnd.jupyter.widget-view+json": {
              "version_major": 2,
              "version_minor": 0,
              "model_id": "d10def600c414d688fde8fe230c11940"
            }
          },
          "metadata": {}
        },
        {
          "output_type": "display_data",
          "data": {
            "text/plain": [
              "<IPython.core.display.HTML object>"
            ],
            "text/html": [
              "<style>\n",
              "    table.wandb td:nth-child(1) { padding: 0 10px; text-align: left ; width: auto;} td:nth-child(2) {text-align: left ; width: 100%}\n",
              "    .wandb-row { display: flex; flex-direction: row; flex-wrap: wrap; justify-content: flex-start; width: 100% }\n",
              "    .wandb-col { display: flex; flex-direction: column; flex-basis: 100%; flex: 1; padding: 10px; }\n",
              "    </style>\n",
              "<div class=\"wandb-row\"><div class=\"wandb-col\"><h3>Run history:</h3><br/><table class=\"wandb\"><tr><td>avg_total_reward</td><td>▁</td></tr><tr><td>avg_win_rate</td><td>▁</td></tr><tr><td>max_total_reward</td><td>▁</td></tr><tr><td>max_win_rate</td><td>▁</td></tr><tr><td>total_reward</td><td>▂▅▅▆▅▅▂▂▂▂▂▂▂▂▇▂▂▂▆█▁▂▁▁▁▁▁▁██▁█▁▁▁▁▁▁▁█</td></tr><tr><td>win_rate</td><td>█▄▁▁▃▁▄▃▂▄</td></tr></table><br/></div><div class=\"wandb-col\"><h3>Run summary:</h3><br/><table class=\"wandb\"><tr><td>avg_total_reward</td><td>0.57911</td></tr><tr><td>avg_win_rate</td><td>0.216</td></tr><tr><td>max_total_reward</td><td>17.52843</td></tr><tr><td>max_win_rate</td><td>0.35</td></tr><tr><td>total_reward</td><td>12.65476</td></tr><tr><td>win_rate</td><td>0.25</td></tr></table><br/></div></div>"
            ]
          },
          "metadata": {}
        },
        {
          "output_type": "display_data",
          "data": {
            "text/plain": [
              "<IPython.core.display.HTML object>"
            ],
            "text/html": [
              " View run <strong style=\"color:#cdcd00\">silvery-sweep-1</strong> at: <a href='https://wandb.ai/okg21/coup-3-player-self-play/runs/gkdxrch0' target=\"_blank\">https://wandb.ai/okg21/coup-3-player-self-play/runs/gkdxrch0</a><br/>Synced 5 W&B file(s), 0 media file(s), 0 artifact file(s) and 0 other file(s)"
            ]
          },
          "metadata": {}
        },
        {
          "output_type": "display_data",
          "data": {
            "text/plain": [
              "<IPython.core.display.HTML object>"
            ],
            "text/html": [
              "Find logs at: <code>./wandb/run-20231212_200000-gkdxrch0/logs</code>"
            ]
          },
          "metadata": {}
        },
        {
          "output_type": "stream",
          "name": "stderr",
          "text": [
            "\u001b[34m\u001b[1mwandb\u001b[0m: Agent Starting Run: y2hzi3ou with config:\n",
            "\u001b[34m\u001b[1mwandb\u001b[0m: \tCARD_DIVERSITY_VALUE: 0.10269884105615736\n",
            "\u001b[34m\u001b[1mwandb\u001b[0m: \tCARD_VALUE: 0.465062760453368\n",
            "\u001b[34m\u001b[1mwandb\u001b[0m: \tCOIN_VALUE: 0.6814490028342359\n",
            "\u001b[34m\u001b[1mwandb\u001b[0m: \tWIN_VALUE: 0.7643801853481313\n",
            "\u001b[34m\u001b[1mwandb\u001b[0m: \tbatch_size: 128\n",
            "\u001b[34m\u001b[1mwandb\u001b[0m: \tbuffer_size: 10000\n",
            "\u001b[34m\u001b[1mwandb\u001b[0m: \tepsilon_decay: 0.9985812504192332\n",
            "\u001b[34m\u001b[1mwandb\u001b[0m: \tgamma: 0.99\n",
            "\u001b[34m\u001b[1mwandb\u001b[0m: \th_dim: 512\n",
            "\u001b[34m\u001b[1mwandb\u001b[0m: \th_layers: 4\n",
            "\u001b[34m\u001b[1mwandb\u001b[0m: \thistory_length: 20\n",
            "\u001b[34m\u001b[1mwandb\u001b[0m: \tlearning_rate: 0.0022887511781270547\n",
            "\u001b[34m\u001b[1mwandb\u001b[0m: \ttau: 0.0014617779452071608\n",
            "\u001b[34m\u001b[1mwandb\u001b[0m: \tupdate_freq: 1\n"
          ]
        },
        {
          "output_type": "display_data",
          "data": {
            "text/plain": [
              "<IPython.core.display.HTML object>"
            ],
            "text/html": [
              "Tracking run with wandb version 0.16.1"
            ]
          },
          "metadata": {}
        },
        {
          "output_type": "display_data",
          "data": {
            "text/plain": [
              "<IPython.core.display.HTML object>"
            ],
            "text/html": [
              "Run data is saved locally in <code>/content/wandb/run-20231212_200246-y2hzi3ou</code>"
            ]
          },
          "metadata": {}
        },
        {
          "output_type": "display_data",
          "data": {
            "text/plain": [
              "<IPython.core.display.HTML object>"
            ],
            "text/html": [
              "Syncing run <strong><a href='https://wandb.ai/okg21/coup-3-player-self-play/runs/y2hzi3ou' target=\"_blank\">devout-sweep-2</a></strong> to <a href='https://wandb.ai/okg21/coup-3-player-self-play' target=\"_blank\">Weights & Biases</a> (<a href='https://wandb.me/run' target=\"_blank\">docs</a>)<br/>Sweep page: <a href='https://wandb.ai/okg21/coup-3-player-self-play/sweeps/1ijcsiwv' target=\"_blank\">https://wandb.ai/okg21/coup-3-player-self-play/sweeps/1ijcsiwv</a>"
            ]
          },
          "metadata": {}
        },
        {
          "output_type": "display_data",
          "data": {
            "text/plain": [
              "<IPython.core.display.HTML object>"
            ],
            "text/html": [
              " View project at <a href='https://wandb.ai/okg21/coup-3-player-self-play' target=\"_blank\">https://wandb.ai/okg21/coup-3-player-self-play</a>"
            ]
          },
          "metadata": {}
        },
        {
          "output_type": "display_data",
          "data": {
            "text/plain": [
              "<IPython.core.display.HTML object>"
            ],
            "text/html": [
              " View sweep at <a href='https://wandb.ai/okg21/coup-3-player-self-play/sweeps/1ijcsiwv' target=\"_blank\">https://wandb.ai/okg21/coup-3-player-self-play/sweeps/1ijcsiwv</a>"
            ]
          },
          "metadata": {}
        },
        {
          "output_type": "display_data",
          "data": {
            "text/plain": [
              "<IPython.core.display.HTML object>"
            ],
            "text/html": [
              " View run at <a href='https://wandb.ai/okg21/coup-3-player-self-play/runs/y2hzi3ou' target=\"_blank\">https://wandb.ai/okg21/coup-3-player-self-play/runs/y2hzi3ou</a>"
            ]
          },
          "metadata": {}
        },
        {
          "output_type": "display_data",
          "data": {
            "text/plain": [
              "Episode Loop:   0%|          | 0/1000 [00:00<?, ?it/s]"
            ],
            "application/vnd.jupyter.widget-view+json": {
              "version_major": 2,
              "version_minor": 0,
              "model_id": "c1de641001994ff0a03339c90137f883"
            }
          },
          "metadata": {}
        },
        {
          "output_type": "stream",
          "name": "stdout",
          "text": [
            "Episode 1/1000 - Win Rate: 0.66 - Epsilon: 0.9985812504192332\n"
          ]
        }
      ]
    },
    {
      "cell_type": "code",
      "source": [],
      "metadata": {
        "id": "u_IQAkESkyNy"
      },
      "execution_count": null,
      "outputs": []
    }
  ]
}